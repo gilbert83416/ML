{
  "nbformat": 4,
  "nbformat_minor": 0,
  "metadata": {
    "colab": {
      "name": "iris_Perceptron_Logitic_SVM.ipynb",
      "provenance": [],
      "authorship_tag": "ABX9TyPWIsiKq9E2Sp0kwvpQsdv4",
      "include_colab_link": true
    },
    "kernelspec": {
      "name": "python3",
      "display_name": "Python 3"
    },
    "language_info": {
      "name": "python"
    }
  },
  "cells": [
    {
      "cell_type": "markdown",
      "metadata": {
        "id": "view-in-github",
        "colab_type": "text"
      },
      "source": [
        "<a href=\"https://colab.research.google.com/github/gilbert83416/ML/blob/main/iris_Perceptron_Logitic_SVM.ipynb\" target=\"_parent\"><img src=\"https://colab.research.google.com/assets/colab-badge.svg\" alt=\"Open In Colab\"/></a>"
      ]
    },
    {
      "cell_type": "code",
      "metadata": {
        "colab": {
          "base_uri": "https://localhost:8080/",
          "height": 495
        },
        "id": "LaR0XOAxdk_n",
        "outputId": "047e3a61-02bb-4f5a-fc8e-2f2a27da3a4f"
      },
      "source": [
        "from sklearn.datasets import load_iris\n",
        "import numpy as np  \n",
        "import pandas as pd\n",
        "\n",
        "iris = load_iris()\n",
        "df = pd.DataFrame(iris['data'], columns = iris['feature_names'])\n",
        "df['ans'] = iris['target']\n",
        "print(iris.target)\n",
        "df"
      ],
      "execution_count": 15,
      "outputs": [
        {
          "output_type": "stream",
          "text": [
            "[0 0 0 0 0 0 0 0 0 0 0 0 0 0 0 0 0 0 0 0 0 0 0 0 0 0 0 0 0 0 0 0 0 0 0 0 0\n",
            " 0 0 0 0 0 0 0 0 0 0 0 0 0 1 1 1 1 1 1 1 1 1 1 1 1 1 1 1 1 1 1 1 1 1 1 1 1\n",
            " 1 1 1 1 1 1 1 1 1 1 1 1 1 1 1 1 1 1 1 1 1 1 1 1 1 1 2 2 2 2 2 2 2 2 2 2 2\n",
            " 2 2 2 2 2 2 2 2 2 2 2 2 2 2 2 2 2 2 2 2 2 2 2 2 2 2 2 2 2 2 2 2 2 2 2 2 2\n",
            " 2 2]\n"
          ],
          "name": "stdout"
        },
        {
          "output_type": "execute_result",
          "data": {
            "text/html": [
              "<div>\n",
              "<style scoped>\n",
              "    .dataframe tbody tr th:only-of-type {\n",
              "        vertical-align: middle;\n",
              "    }\n",
              "\n",
              "    .dataframe tbody tr th {\n",
              "        vertical-align: top;\n",
              "    }\n",
              "\n",
              "    .dataframe thead th {\n",
              "        text-align: right;\n",
              "    }\n",
              "</style>\n",
              "<table border=\"1\" class=\"dataframe\">\n",
              "  <thead>\n",
              "    <tr style=\"text-align: right;\">\n",
              "      <th></th>\n",
              "      <th>sepal length (cm)</th>\n",
              "      <th>sepal width (cm)</th>\n",
              "      <th>petal length (cm)</th>\n",
              "      <th>petal width (cm)</th>\n",
              "      <th>ans</th>\n",
              "    </tr>\n",
              "  </thead>\n",
              "  <tbody>\n",
              "    <tr>\n",
              "      <th>0</th>\n",
              "      <td>5.1</td>\n",
              "      <td>3.5</td>\n",
              "      <td>1.4</td>\n",
              "      <td>0.2</td>\n",
              "      <td>0</td>\n",
              "    </tr>\n",
              "    <tr>\n",
              "      <th>1</th>\n",
              "      <td>4.9</td>\n",
              "      <td>3.0</td>\n",
              "      <td>1.4</td>\n",
              "      <td>0.2</td>\n",
              "      <td>0</td>\n",
              "    </tr>\n",
              "    <tr>\n",
              "      <th>2</th>\n",
              "      <td>4.7</td>\n",
              "      <td>3.2</td>\n",
              "      <td>1.3</td>\n",
              "      <td>0.2</td>\n",
              "      <td>0</td>\n",
              "    </tr>\n",
              "    <tr>\n",
              "      <th>3</th>\n",
              "      <td>4.6</td>\n",
              "      <td>3.1</td>\n",
              "      <td>1.5</td>\n",
              "      <td>0.2</td>\n",
              "      <td>0</td>\n",
              "    </tr>\n",
              "    <tr>\n",
              "      <th>4</th>\n",
              "      <td>5.0</td>\n",
              "      <td>3.6</td>\n",
              "      <td>1.4</td>\n",
              "      <td>0.2</td>\n",
              "      <td>0</td>\n",
              "    </tr>\n",
              "    <tr>\n",
              "      <th>...</th>\n",
              "      <td>...</td>\n",
              "      <td>...</td>\n",
              "      <td>...</td>\n",
              "      <td>...</td>\n",
              "      <td>...</td>\n",
              "    </tr>\n",
              "    <tr>\n",
              "      <th>145</th>\n",
              "      <td>6.7</td>\n",
              "      <td>3.0</td>\n",
              "      <td>5.2</td>\n",
              "      <td>2.3</td>\n",
              "      <td>2</td>\n",
              "    </tr>\n",
              "    <tr>\n",
              "      <th>146</th>\n",
              "      <td>6.3</td>\n",
              "      <td>2.5</td>\n",
              "      <td>5.0</td>\n",
              "      <td>1.9</td>\n",
              "      <td>2</td>\n",
              "    </tr>\n",
              "    <tr>\n",
              "      <th>147</th>\n",
              "      <td>6.5</td>\n",
              "      <td>3.0</td>\n",
              "      <td>5.2</td>\n",
              "      <td>2.0</td>\n",
              "      <td>2</td>\n",
              "    </tr>\n",
              "    <tr>\n",
              "      <th>148</th>\n",
              "      <td>6.2</td>\n",
              "      <td>3.4</td>\n",
              "      <td>5.4</td>\n",
              "      <td>2.3</td>\n",
              "      <td>2</td>\n",
              "    </tr>\n",
              "    <tr>\n",
              "      <th>149</th>\n",
              "      <td>5.9</td>\n",
              "      <td>3.0</td>\n",
              "      <td>5.1</td>\n",
              "      <td>1.8</td>\n",
              "      <td>2</td>\n",
              "    </tr>\n",
              "  </tbody>\n",
              "</table>\n",
              "<p>150 rows × 5 columns</p>\n",
              "</div>"
            ],
            "text/plain": [
              "     sepal length (cm)  sepal width (cm)  ...  petal width (cm)  ans\n",
              "0                  5.1               3.5  ...               0.2    0\n",
              "1                  4.9               3.0  ...               0.2    0\n",
              "2                  4.7               3.2  ...               0.2    0\n",
              "3                  4.6               3.1  ...               0.2    0\n",
              "4                  5.0               3.6  ...               0.2    0\n",
              "..                 ...               ...  ...               ...  ...\n",
              "145                6.7               3.0  ...               2.3    2\n",
              "146                6.3               2.5  ...               1.9    2\n",
              "147                6.5               3.0  ...               2.0    2\n",
              "148                6.2               3.4  ...               2.3    2\n",
              "149                5.9               3.0  ...               1.8    2\n",
              "\n",
              "[150 rows x 5 columns]"
            ]
          },
          "metadata": {
            "tags": []
          },
          "execution_count": 15
        }
      ]
    },
    {
      "cell_type": "code",
      "metadata": {
        "colab": {
          "base_uri": "https://localhost:8080/"
        },
        "id": "8zYlECGPhTXu",
        "outputId": "e037422e-ae8b-4af0-9219-eddb46ec0e02"
      },
      "source": [
        "from sklearn.model_selection import train_test_split\n",
        "X_train, X_test, y_train, y_test = train_test_split(iris.data[:,[2,3]], iris.target, test_size = 0.3, random_state = 1, stratify = iris.target)  #x[:,[2,3]] :所有集合的ith data\n",
        "X_train, X_test, y_train, y_test "
      ],
      "execution_count": 16,
      "outputs": [
        {
          "output_type": "execute_result",
          "data": {
            "text/plain": [
              "(array([[1.4, 0.2],\n",
              "        [1.7, 0.2],\n",
              "        [5.3, 2.3],\n",
              "        [5.7, 2.1],\n",
              "        [1.2, 0.2],\n",
              "        [5.6, 2.4],\n",
              "        [6.6, 2.1],\n",
              "        [1.2, 0.2],\n",
              "        [5.8, 1.6],\n",
              "        [4.6, 1.3],\n",
              "        [3.3, 1. ],\n",
              "        [3.9, 1.4],\n",
              "        [1.3, 0.2],\n",
              "        [4.7, 1.2],\n",
              "        [4. , 1.3],\n",
              "        [5.1, 1.9],\n",
              "        [1.9, 0.2],\n",
              "        [3.5, 1. ],\n",
              "        [3.9, 1.2],\n",
              "        [1.6, 0.2],\n",
              "        [4.8, 1.8],\n",
              "        [6.9, 2.3],\n",
              "        [4.5, 1.5],\n",
              "        [4.5, 1.3],\n",
              "        [3.8, 1.1],\n",
              "        [5.6, 2.4],\n",
              "        [4.7, 1.4],\n",
              "        [5.6, 1.4],\n",
              "        [5.8, 2.2],\n",
              "        [5.1, 2.4],\n",
              "        [4.1, 1.3],\n",
              "        [1.5, 0.4],\n",
              "        [6.7, 2.2],\n",
              "        [5. , 1.9],\n",
              "        [4.8, 1.8],\n",
              "        [5.6, 2.1],\n",
              "        [4.2, 1.5],\n",
              "        [6.7, 2. ],\n",
              "        [5.5, 1.8],\n",
              "        [1.6, 0.2],\n",
              "        [4.9, 1.8],\n",
              "        [1.4, 0.2],\n",
              "        [5.1, 1.5],\n",
              "        [1.9, 0.4],\n",
              "        [1. , 0.2],\n",
              "        [4.9, 1.5],\n",
              "        [1.5, 0.2],\n",
              "        [1.1, 0.1],\n",
              "        [5.5, 1.8],\n",
              "        [4.7, 1.5],\n",
              "        [1.7, 0.3],\n",
              "        [3.5, 1. ],\n",
              "        [4.1, 1. ],\n",
              "        [1.5, 0.2],\n",
              "        [1.5, 0.2],\n",
              "        [1.5, 0.2],\n",
              "        [3.7, 1. ],\n",
              "        [6.1, 2.5],\n",
              "        [1.3, 0.3],\n",
              "        [4.9, 1.5],\n",
              "        [1.3, 0.2],\n",
              "        [4.5, 1.6],\n",
              "        [6. , 1.8],\n",
              "        [1.6, 0.2],\n",
              "        [1.4, 0.2],\n",
              "        [4.4, 1.2],\n",
              "        [5.1, 1.9],\n",
              "        [3.6, 1.3],\n",
              "        [4.1, 1.3],\n",
              "        [4.8, 1.8],\n",
              "        [6.1, 2.3],\n",
              "        [4.5, 1.5],\n",
              "        [4.5, 1.5],\n",
              "        [5.4, 2.1],\n",
              "        [5.6, 2.2],\n",
              "        [4.6, 1.4],\n",
              "        [1.5, 0.4],\n",
              "        [1.7, 0.5],\n",
              "        [6.1, 1.9],\n",
              "        [5.1, 1.6],\n",
              "        [6.4, 2. ],\n",
              "        [5. , 1.5],\n",
              "        [1.5, 0.2],\n",
              "        [4.2, 1.3],\n",
              "        [5.1, 2. ],\n",
              "        [6. , 2.5],\n",
              "        [1.5, 0.3],\n",
              "        [1.4, 0.2],\n",
              "        [5.6, 1.8],\n",
              "        [1.4, 0.3],\n",
              "        [5.9, 2.3],\n",
              "        [3.9, 1.1],\n",
              "        [4.2, 1.2],\n",
              "        [4.3, 1.3],\n",
              "        [1.5, 0.1],\n",
              "        [5.2, 2.3],\n",
              "        [4.4, 1.3],\n",
              "        [1.3, 0.2],\n",
              "        [1.4, 0.3],\n",
              "        [5. , 1.7],\n",
              "        [1.3, 0.3],\n",
              "        [4. , 1.2],\n",
              "        [1.6, 0.4],\n",
              "        [1.5, 0.2],\n",
              "        [1.3, 0.2]]), array([[5.4, 2.3],\n",
              "        [1.7, 0.4],\n",
              "        [1.4, 0.3],\n",
              "        [4.5, 1.7],\n",
              "        [4.4, 1.4],\n",
              "        [4. , 1.3],\n",
              "        [5.8, 1.8],\n",
              "        [4.5, 1.5],\n",
              "        [5.3, 1.9],\n",
              "        [1.3, 0.4],\n",
              "        [1.5, 0.4],\n",
              "        [4.9, 1.8],\n",
              "        [1.4, 0.2],\n",
              "        [3.3, 1. ],\n",
              "        [1.4, 0.2],\n",
              "        [4.8, 1.4],\n",
              "        [5.1, 2.3],\n",
              "        [4.5, 1.5],\n",
              "        [4.3, 1.3],\n",
              "        [5.2, 2. ],\n",
              "        [5.9, 2.1],\n",
              "        [1.4, 0.1],\n",
              "        [4.4, 1.4],\n",
              "        [4.9, 2. ],\n",
              "        [4.2, 1.3],\n",
              "        [4.7, 1.6],\n",
              "        [3. , 1.1],\n",
              "        [5.7, 2.5],\n",
              "        [1.6, 0.6],\n",
              "        [5. , 2. ],\n",
              "        [1.6, 0.2],\n",
              "        [1.4, 0.2],\n",
              "        [4. , 1. ],\n",
              "        [4. , 1.3],\n",
              "        [6.3, 1.8],\n",
              "        [5.5, 2.1],\n",
              "        [1.4, 0.1],\n",
              "        [1.6, 0.2],\n",
              "        [1.4, 0.2],\n",
              "        [4.7, 1.4],\n",
              "        [5.7, 2.3],\n",
              "        [5.1, 1.8],\n",
              "        [4.6, 1.5],\n",
              "        [1.5, 0.2],\n",
              "        [1.5, 0.1]]), array([0, 0, 2, 2, 0, 2, 2, 0, 2, 1, 1, 1, 0, 1, 1, 2, 0, 1, 1, 0, 2, 2,\n",
              "        1, 1, 1, 2, 1, 2, 2, 2, 1, 0, 2, 2, 2, 2, 1, 2, 2, 0, 2, 0, 2, 0,\n",
              "        0, 1, 0, 0, 2, 1, 0, 1, 1, 0, 0, 0, 1, 2, 0, 1, 0, 1, 2, 0, 0, 1,\n",
              "        2, 1, 1, 1, 2, 1, 1, 2, 2, 1, 0, 0, 2, 1, 2, 2, 0, 1, 2, 2, 0, 0,\n",
              "        2, 0, 2, 1, 1, 1, 0, 2, 1, 0, 0, 1, 0, 1, 0, 0, 0]), array([2, 0, 0, 2, 1, 1, 2, 1, 2, 0, 0, 2, 0, 1, 0, 1, 2, 1, 1, 2, 2, 0,\n",
              "        1, 2, 1, 1, 1, 2, 0, 2, 0, 0, 1, 1, 2, 2, 0, 0, 0, 1, 2, 2, 1, 0,\n",
              "        0]))"
            ]
          },
          "metadata": {
            "tags": []
          },
          "execution_count": 16
        }
      ]
    },
    {
      "cell_type": "code",
      "metadata": {
        "id": "JhmgvXOEhVUI"
      },
      "source": [
        "# 特徵縮放\n",
        "from sklearn.preprocessing import StandardScaler\n",
        "sc = StandardScaler()\n",
        "sc.fit(X_train)\n",
        "X_train_std = sc.transform(X_train)\n",
        "X_test_std = sc.transform(X_test)\n"
      ],
      "execution_count": 17,
      "outputs": []
    },
    {
      "cell_type": "code",
      "metadata": {
        "colab": {
          "base_uri": "https://localhost:8080/"
        },
        "id": "yez1QLOik5yU",
        "outputId": "f8acec21-d0f9-4a6c-8f7d-921c73f7169a"
      },
      "source": [
        "from sklearn.linear_model import Perceptron\n",
        "# eta = 學習速率, random_state: 每輪processing後 reproducibility\n",
        "perc = Perceptron(eta0 = 0.1, random_state=1)\n",
        "perc.fit(X_train_std,y_train)\n",
        "\n",
        "pred = perc.predict(X_test_std)\n",
        "misclassified = (pred !=y_test).sum()\n",
        "# check the quantity of wrong classification \n",
        "print(misclassified)"
      ],
      "execution_count": 18,
      "outputs": [
        {
          "output_type": "stream",
          "text": [
            "1\n"
          ],
          "name": "stdout"
        }
      ]
    },
    {
      "cell_type": "code",
      "metadata": {
        "colab": {
          "base_uri": "https://localhost:8080/"
        },
        "id": "is8swCLbnTsR",
        "outputId": "4e9758b6-d4cd-4345-f70c-e864f66c9a14"
      },
      "source": [
        "from sklearn.metrics import accuracy_score\n",
        "acc = accuracy_score(pred, y_test)\n",
        "acc"
      ],
      "execution_count": 19,
      "outputs": [
        {
          "output_type": "execute_result",
          "data": {
            "text/plain": [
              "0.9777777777777777"
            ]
          },
          "metadata": {
            "tags": []
          },
          "execution_count": 19
        }
      ]
    },
    {
      "cell_type": "code",
      "metadata": {
        "id": "bX8IxOlBrgeL"
      },
      "source": [
        "from matplotlib.colors import ListedColormap\n",
        "def plot_decision_regions(X, y, classifier, test_idx=None, resolution=0.02):\n",
        "\n",
        "    # setup marker generator and color map\n",
        "    markers = ('s', 'x', 'o', '^', 'v')\n",
        "    colors = ('red', 'blue', 'lightgreen', 'gray', 'cyan')\n",
        "    cmap = ListedColormap(colors[:len(np.unique(y))])\n",
        "\n",
        "    # plot the decision surface\n",
        "    x1_min, x1_max = X[:, 0].min() - 1, X[:, 0].max() + 1\n",
        "    x2_min, x2_max = X[:, 1].min() - 1, X[:, 1].max() + 1\n",
        "    xx1, xx2 = np.meshgrid(np.arange(x1_min, x1_max, resolution),\n",
        "                           np.arange(x2_min, x2_max, resolution))\n",
        "    Z = classifier.predict(np.array([xx1.ravel(), xx2.ravel()]).T)\n",
        "    Z = Z.reshape(xx1.shape)\n",
        "    plt.contourf(xx1, xx2, Z, alpha=0.3, cmap=cmap)\n",
        "    plt.xlim(xx1.min(), xx1.max())\n",
        "    plt.ylim(xx2.min(), xx2.max())\n",
        "\n",
        "    for idx, cl in enumerate(np.unique(y)):\n",
        "        plt.scatter(x=X[y == cl, 0], \n",
        "                    y=X[y == cl, 1],\n",
        "                    alpha=0.8, \n",
        "                    c=cmap(idx),\n",
        "                    edgecolor='black',\n",
        "                    marker=markers[idx], \n",
        "                    label=cl)\n",
        "\n",
        "    # highlight test samples\n",
        "    if test_idx:\n",
        "        X_test, y_test = iris.data[:,[2,3]][test_idx, :], y[test_idx]\n",
        "        plt.scatter(X_test[:, 0],\n",
        "                    X_test[:, 1],\n",
        "                    c='',\n",
        "                    alpha=1.0,\n",
        "                    edgecolor='black',\n",
        "                    linewidths=1,\n",
        "                    marker='o',\n",
        "                    s=100, label='test set')"
      ],
      "execution_count": 20,
      "outputs": []
    },
    {
      "cell_type": "code",
      "metadata": {
        "colab": {
          "base_uri": "https://localhost:8080/",
          "height": 423
        },
        "id": "MLCfaIw-nWxK",
        "outputId": "f5ed398f-fb21-405c-e5dc-cd3bb71b6aab"
      },
      "source": [
        "# Perceptron\n",
        "import matplotlib.pyplot as plt\n",
        "\n",
        "\n",
        "X_combined_std = np.vstack((X_train_std, X_test_std))\n",
        "y_combined = np.hstack((y_train, y_test))\n",
        "print(X_combined_std.shape[1])\n",
        "print()\n",
        "plot_decision_regions(X = X_combined_std, \n",
        "                      y = y_combined, \n",
        "                      classifier = perc,\n",
        "                      test_idx = range(105,150))\n",
        "plt.xlabel('petal length (std)')\n",
        "plt.ylabel('petal width (std)')\n",
        "plt.legend(loc = 'upper left')\n",
        "plt.figure(figsize=(14,14))\n",
        "plt.show()"
      ],
      "execution_count": 21,
      "outputs": [
        {
          "output_type": "stream",
          "text": [
            "*c* argument looks like a single numeric RGB or RGBA sequence, which should be avoided as value-mapping will have precedence in case its length matches with *x* & *y*.  Please use the *color* keyword-argument or provide a 2-D array with a single row if you intend to specify the same RGB or RGBA value for all points.\n",
            "*c* argument looks like a single numeric RGB or RGBA sequence, which should be avoided as value-mapping will have precedence in case its length matches with *x* & *y*.  Please use the *color* keyword-argument or provide a 2-D array with a single row if you intend to specify the same RGB or RGBA value for all points.\n",
            "*c* argument looks like a single numeric RGB or RGBA sequence, which should be avoided as value-mapping will have precedence in case its length matches with *x* & *y*.  Please use the *color* keyword-argument or provide a 2-D array with a single row if you intend to specify the same RGB or RGBA value for all points.\n"
          ],
          "name": "stderr"
        },
        {
          "output_type": "stream",
          "text": [
            "2\n",
            "\n"
          ],
          "name": "stdout"
        },
        {
          "output_type": "stream",
          "text": [
            "/usr/local/lib/python3.7/dist-packages/ipykernel_launcher.py:39: MatplotlibDeprecationWarning: Using a string of single character colors as a color sequence is deprecated. Use an explicit list instead.\n"
          ],
          "name": "stderr"
        },
        {
          "output_type": "display_data",
          "data": {
            "image/png": "[encoded data removed]",
            "text/plain": [
              "<Figure size 432x288 with 1 Axes>"
            ]
          },
          "metadata": {
            "tags": [],
            "needs_background": "light"
          }
        },
        {
          "output_type": "display_data",
          "data": {
            "text/plain": [
              "<Figure size 1008x1008 with 0 Axes>"
            ]
          },
          "metadata": {
            "tags": []
          }
        }
      ]
    },
    {
      "cell_type": "code",
      "metadata": {
        "colab": {
          "base_uri": "https://localhost:8080/",
          "height": 387
        },
        "id": "2tGhZzlO_bjv",
        "outputId": "cbc10e83-6f18-4451-d0a2-1532c8fa0d8d"
      },
      "source": [
        "# LogisticRegression\n",
        "# solver parameter: 求解參數器lbfgs: Limited memory Broyden Fletcher Goldfarb shanno(有限記憶體, 同時可處理多項式損失) Hint: C is for overfitting and regulation\n",
        "from sklearn.linear_model import LogisticRegression\n",
        "\n",
        "logistics = LogisticRegression(C=100.0, random_state =1, solver = 'lbfgs', multi_class = 'ovr')\n",
        "logistics.fit(X_train_std, y_train)\n",
        "plot_decision_regions(X = X_combined_std, \n",
        "                      y = y_combined, \n",
        "                      classifier = logistics,\n",
        "                      test_idx = range(105,150))\n",
        "plt.xlabel('petal length (std)')\n",
        "plt.ylabel('petal width (std)')\n",
        "plt.legend(loc = 'upper left')\n",
        "plt.figure(figsize=(14,14))\n",
        "plt.show()"
      ],
      "execution_count": 22,
      "outputs": [
        {
          "output_type": "stream",
          "text": [
            "*c* argument looks like a single numeric RGB or RGBA sequence, which should be avoided as value-mapping will have precedence in case its length matches with *x* & *y*.  Please use the *color* keyword-argument or provide a 2-D array with a single row if you intend to specify the same RGB or RGBA value for all points.\n",
            "*c* argument looks like a single numeric RGB or RGBA sequence, which should be avoided as value-mapping will have precedence in case its length matches with *x* & *y*.  Please use the *color* keyword-argument or provide a 2-D array with a single row if you intend to specify the same RGB or RGBA value for all points.\n",
            "*c* argument looks like a single numeric RGB or RGBA sequence, which should be avoided as value-mapping will have precedence in case its length matches with *x* & *y*.  Please use the *color* keyword-argument or provide a 2-D array with a single row if you intend to specify the same RGB or RGBA value for all points.\n",
            "/usr/local/lib/python3.7/dist-packages/ipykernel_launcher.py:39: MatplotlibDeprecationWarning: Using a string of single character colors as a color sequence is deprecated. Use an explicit list instead.\n"
          ],
          "name": "stderr"
        },
        {
          "output_type": "display_data",
          "data": {
            "image/png": "[encoded data removed]",
            "text/plain": [
              "<Figure size 432x288 with 1 Axes>"
            ]
          },
          "metadata": {
            "tags": [],
            "needs_background": "light"
          }
        },
        {
          "output_type": "display_data",
          "data": {
            "text/plain": [
              "<Figure size 1008x1008 with 0 Axes>"
            ]
          },
          "metadata": {
            "tags": []
          }
        }
      ]
    },
    {
      "cell_type": "code",
      "metadata": {
        "colab": {
          "base_uri": "https://localhost:8080/",
          "height": 283
        },
        "id": "KZqUopRfBH6Y",
        "outputId": "b09ab8da-7b0c-4b52-9dde-53f9b7baaab4"
      },
      "source": [
        "# 反正規化參數C 與lenda 正規化參數的導數-> 若降低Ｃ則表示增加正規化的強度\n",
        "weights, params = [], []\n",
        "for c in np.arange(-5,5):\n",
        "  logistics = LogisticRegression(C=10.**c, random_state =1, solver = 'lbfgs', multi_class = 'ovr')\n",
        "  logistics.fit(X_train_std, y_train)\n",
        "  weights.append(logistics.coef_[1])\n",
        "  params.append(10.**c)\n",
        "weights = np.array(weights)\n",
        "plt.plot(params, weights[:,0],\n",
        "         label= 'petal length')\n",
        "plt.plot(params, weights[:, 1],\n",
        "         linestyle = '--',\n",
        "         label = 'petal width')\n",
        "plt.ylabel('weight coefficient')\n",
        "plt.xlabel('C')\n",
        "plt.legend(loc= 'upper left')\n",
        "plt.xscale('log')\n",
        "plt.show()"
      ],
      "execution_count": 23,
      "outputs": [
        {
          "output_type": "display_data",
          "data": {
            "image/png": "[encoded data removed]",
            "text/plain": [
              "<Figure size 432x288 with 1 Axes>"
            ]
          },
          "metadata": {
            "tags": [],
            "needs_background": "light"
          }
        }
      ]
    },
    {
      "cell_type": "code",
      "metadata": {
        "colab": {
          "base_uri": "https://localhost:8080/",
          "height": 405
        },
        "id": "6PP3omccuaiE",
        "outputId": "22c028e7-a5b8-415e-eaf2-3cff5796af3e"
      },
      "source": [
        "#  SVM 處理最大化分類邊界\n",
        "from  sklearn.svm import SVC\n",
        "svm = SVC(kernel = 'linear', C= 1.0, random_state = 1)\n",
        "svm.fit(X_train_std, y_train)\n",
        "plot_decision_regions(X = X_combined_std, \n",
        "                      y = y_combined, \n",
        "                      classifier = logistics,\n",
        "                      test_idx = range(105,150))\n",
        "plt.xlabel('petal length (std)')\n",
        "plt.ylabel('petal width (std)')\n",
        "plt.legend(loc = 'upper left')\n",
        "plt.tight_layout()\n",
        "plt.figure(figsize=(14,14))\n",
        "plt.show()\n"
      ],
      "execution_count": 24,
      "outputs": [
        {
          "output_type": "stream",
          "text": [
            "*c* argument looks like a single numeric RGB or RGBA sequence, which should be avoided as value-mapping will have precedence in case its length matches with *x* & *y*.  Please use the *color* keyword-argument or provide a 2-D array with a single row if you intend to specify the same RGB or RGBA value for all points.\n",
            "*c* argument looks like a single numeric RGB or RGBA sequence, which should be avoided as value-mapping will have precedence in case its length matches with *x* & *y*.  Please use the *color* keyword-argument or provide a 2-D array with a single row if you intend to specify the same RGB or RGBA value for all points.\n",
            "*c* argument looks like a single numeric RGB or RGBA sequence, which should be avoided as value-mapping will have precedence in case its length matches with *x* & *y*.  Please use the *color* keyword-argument or provide a 2-D array with a single row if you intend to specify the same RGB or RGBA value for all points.\n",
            "/usr/local/lib/python3.7/dist-packages/ipykernel_launcher.py:39: MatplotlibDeprecationWarning: Using a string of single character colors as a color sequence is deprecated. Use an explicit list instead.\n"
          ],
          "name": "stderr"
        },
        {
          "output_type": "display_data",
          "data": {
            "image/png": "[encoded data removed]",
            "text/plain": [
              "<Figure size 432x288 with 1 Axes>"
            ]
          },
          "metadata": {
            "tags": [],
            "needs_background": "light"
          }
        },
        {
          "output_type": "display_data",
          "data": {
            "text/plain": [
              "<Figure size 1008x1008 with 0 Axes>"
            ]
          },
          "metadata": {
            "tags": []
          }
        }
      ]
    },
    {
      "cell_type": "code",
      "metadata": {
        "colab": {
          "base_uri": "https://localhost:8080/",
          "height": 997
        },
        "id": "qwKj2vO9MeKa",
        "outputId": "a0d42a92-0bfe-4b8b-b0a7-11ab78aa552e"
      },
      "source": [
        "# SVM 處理非線性分離數據 (kernelized 核心化)\n",
        "# XOR (Numpy logical_or 亂數邏輯閘產生數據)\n",
        "import matplotlib.pyplot as plt\n",
        "import numpy as np\n",
        "np.random.seed(1) #產生一組generator使資料隨機可預測\n",
        "X_xor = np.random.randn(200, 2) #設定維度並回傳常態分佈樣本([xxx,xxx]*200)\n",
        "print('X_xor',X_xor[1:10],'\\n')\n",
        "y_xor = np.logical_xor(X_xor[:,0] >0,\n",
        "                       X_xor[:,1] >0) #只要[a,b]其一 >0 return true\n",
        "print('y_xor(orig)',y_xor[1:10],'\\n')\n",
        "y_xor = np.where(y_xor, 1, -1)\n",
        "print('y_xor(new)',y_xor[1:10],'\\n')\n",
        "plt.scatter(X_xor[y_xor == 1,0],\n",
        "            X_xor[y_xor == 1,1],\n",
        "            c='b', marker = 'x',\n",
        "            label= '1')\n",
        "plt.scatter(X_xor[y_xor == -1,0],\n",
        "            X_xor[y_xor == -1,1],\n",
        "            c='r', marker = 's',\n",
        "            label= '-1')\n",
        "plt.xlim([-3,3])\n",
        "plt.ylim([-3,3])\n",
        "plt.legend(loc= 'best')\n",
        "plt.show()\n",
        "\n",
        "\n",
        "print(X_xor[y_xor][1:10],'\\n')\n",
        "print(X_xor[y_xor == 1,0])"
      ],
      "execution_count": 25,
      "outputs": [
        {
          "output_type": "stream",
          "text": [
            "X_xor [[-0.52817175 -1.07296862]\n",
            " [ 0.86540763 -2.3015387 ]\n",
            " [ 1.74481176 -0.7612069 ]\n",
            " [ 0.3190391  -0.24937038]\n",
            " [ 1.46210794 -2.06014071]\n",
            " [-0.3224172  -0.38405435]\n",
            " [ 1.13376944 -1.09989127]\n",
            " [-0.17242821 -0.87785842]\n",
            " [ 0.04221375  0.58281521]] \n",
            "\n",
            "y_xor(orig) [False  True  True  True  True False  True False False] \n",
            "\n",
            "y_xor(new) [-1  1  1  1  1 -1  1 -1 -1] \n",
            "\n"
          ],
          "name": "stdout"
        },
        {
          "output_type": "display_data",
          "data": {
            "image/png": "[encoded data removed]",
            "text/plain": [
              "<Figure size 432x288 with 1 Axes>"
            ]
          },
          "metadata": {
            "tags": [],
            "needs_background": "light"
          }
        },
        {
          "output_type": "stream",
          "text": [
            "[[-0.03536792  2.11060505]\n",
            " [-0.52817175 -1.07296862]\n",
            " [-0.52817175 -1.07296862]\n",
            " [-0.52817175 -1.07296862]\n",
            " [-0.52817175 -1.07296862]\n",
            " [-0.03536792  2.11060505]\n",
            " [-0.52817175 -1.07296862]\n",
            " [-0.03536792  2.11060505]\n",
            " [-0.03536792  2.11060505]] \n",
            "\n",
            "[ 1.62434536  0.86540763  1.74481176  0.3190391   1.46210794  1.13376944\n",
            " -1.10061918  0.90085595 -0.26788808 -1.11731035 -0.74715829  0.05080775\n",
            "  0.30017032 -0.20889423 -0.75439794  0.51292982  0.48851815  2.18557541\n",
            "  0.31563495 -0.30620401 -0.67066229 -0.34385368 -0.62000084 -0.44712856\n",
            " -1.09491185  0.74055645 -0.26621851 -1.37311732  0.84616065  0.35054598\n",
            " -1.85798186 -1.19926803 -1.23005814  0.79280687  0.52057634  0.44136444\n",
            "  0.01740941  0.24879916  0.49521132  2.19069973 -0.64691669  2.52832571\n",
            "  0.04366899  1.33145711  0.68006984 -1.27255876  0.28066508  0.6590498\n",
            " -0.40087819 -0.56230543 -1.1191154   1.11438298 -1.23685338  0.62336218\n",
            " -1.2197444  -1.67419581 -0.86131636  0.61853913  1.81053491 -2.793085\n",
            "  0.36633201  0.42952614  0.10622272  0.79502609  0.2764993  -1.44087602\n",
            " -0.25417987 -1.11647002  0.49233656 -0.95542526  2.06578332 -0.27909772\n",
            "  0.01335268  0.6218035   1.3887794   0.65458015  0.28267571 -0.70584051\n",
            " -0.23794194  1.45142926 -0.41163916 -0.44222928 -0.10999149  0.4611641\n",
            " -0.19505734  0.15626385 -0.55749472 -1.94332341 -0.23643695  0.51507361\n",
            "  0.02186284  0.85328122  2.13782807 -1.75592564  0.61798553 -1.42655542\n",
            " -0.47537288 -1.02188594 -1.87316098 -0.03536792]\n"
          ],
          "name": "stdout"
        }
      ]
    },
    {
      "cell_type": "code",
      "metadata": {
        "colab": {
          "base_uri": "https://localhost:8080/",
          "height": 320
        },
        "id": "UtydV7plY1Pi",
        "outputId": "d4cbe205-d772-48f0-9b56-a2460f1e151e"
      },
      "source": [
        "svm = SVC(kernel='rbf', random_state=0, gamma=0.1, C=10.0)\n",
        "svm.fit(X_xor, y_xor)\n",
        "plot_decision_regions(X_xor, y_xor, classifier=svm)\n",
        "plt.legend(loc='upper left')\n",
        "plt.show()"
      ],
      "execution_count": 26,
      "outputs": [
        {
          "output_type": "stream",
          "text": [
            "*c* argument looks like a single numeric RGB or RGBA sequence, which should be avoided as value-mapping will have precedence in case its length matches with *x* & *y*.  Please use the *color* keyword-argument or provide a 2-D array with a single row if you intend to specify the same RGB or RGBA value for all points.\n",
            "*c* argument looks like a single numeric RGB or RGBA sequence, which should be avoided as value-mapping will have precedence in case its length matches with *x* & *y*.  Please use the *color* keyword-argument or provide a 2-D array with a single row if you intend to specify the same RGB or RGBA value for all points.\n"
          ],
          "name": "stderr"
        },
        {
          "output_type": "display_data",
          "data": {
            "image/png": "[encoded data removed]",
            "text/plain": [
              "<Figure size 432x288 with 1 Axes>"
            ]
          },
          "metadata": {
            "tags": [],
            "needs_background": "light"
          }
        }
      ]
    }
  ]
}