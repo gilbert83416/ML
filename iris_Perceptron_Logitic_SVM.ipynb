{
  "nbformat": 4,
  "nbformat_minor": 0,
  "metadata": {
    "colab": {
      "name": "iris_Perceptron_Logitic_SVM.ipynb",
      "provenance": [],
      "authorship_tag": "ABX9TyNXfCreyTVCMYg7vtx8hWdp",
      "include_colab_link": true
    },
    "kernelspec": {
      "name": "python3",
      "display_name": "Python 3"
    },
    "language_info": {
      "name": "python"
    }
  },
  "cells": [
    {
      "cell_type": "markdown",
      "metadata": {
        "id": "view-in-github",
        "colab_type": "text"
      },
      "source": [
        "<a href=\"https://colab.research.google.com/github/gilbert83416/ML/blob/main/iris_Perceptron_Logitic_SVM.ipynb\" target=\"_parent\"><img src=\"https://colab.research.google.com/assets/colab-badge.svg\" alt=\"Open In Colab\"/></a>"
      ]
    },
    {
      "cell_type": "code",
      "metadata": {
        "colab": {
          "base_uri": "https://localhost:8080/",
          "height": 495
        },
        "id": "LaR0XOAxdk_n",
        "outputId": "f07bc908-4f83-41ef-a854-7c7d9c3891ea"
      },
      "source": [
        "from sklearn.datasets import load_iris\n",
        "import numpy as np  \n",
        "import pandas as pd\n",
        "\n",
        "iris = load_iris()\n",
        "df = pd.DataFrame(iris['data'], columns = iris['feature_names'])\n",
        "df['ans'] = iris['target']\n",
        "print(iris.target)\n",
        "df"
      ],
      "execution_count": 129,
      "outputs": [
        {
          "output_type": "stream",
          "text": [
            "[0 0 0 0 0 0 0 0 0 0 0 0 0 0 0 0 0 0 0 0 0 0 0 0 0 0 0 0 0 0 0 0 0 0 0 0 0\n",
            " 0 0 0 0 0 0 0 0 0 0 0 0 0 1 1 1 1 1 1 1 1 1 1 1 1 1 1 1 1 1 1 1 1 1 1 1 1\n",
            " 1 1 1 1 1 1 1 1 1 1 1 1 1 1 1 1 1 1 1 1 1 1 1 1 1 1 2 2 2 2 2 2 2 2 2 2 2\n",
            " 2 2 2 2 2 2 2 2 2 2 2 2 2 2 2 2 2 2 2 2 2 2 2 2 2 2 2 2 2 2 2 2 2 2 2 2 2\n",
            " 2 2]\n"
          ],
          "name": "stdout"
        },
        {
          "output_type": "execute_result",
          "data": {
            "text/html": [
              "<div>\n",
              "<style scoped>\n",
              "    .dataframe tbody tr th:only-of-type {\n",
              "        vertical-align: middle;\n",
              "    }\n",
              "\n",
              "    .dataframe tbody tr th {\n",
              "        vertical-align: top;\n",
              "    }\n",
              "\n",
              "    .dataframe thead th {\n",
              "        text-align: right;\n",
              "    }\n",
              "</style>\n",
              "<table border=\"1\" class=\"dataframe\">\n",
              "  <thead>\n",
              "    <tr style=\"text-align: right;\">\n",
              "      <th></th>\n",
              "      <th>sepal length (cm)</th>\n",
              "      <th>sepal width (cm)</th>\n",
              "      <th>petal length (cm)</th>\n",
              "      <th>petal width (cm)</th>\n",
              "      <th>ans</th>\n",
              "    </tr>\n",
              "  </thead>\n",
              "  <tbody>\n",
              "    <tr>\n",
              "      <th>0</th>\n",
              "      <td>5.1</td>\n",
              "      <td>3.5</td>\n",
              "      <td>1.4</td>\n",
              "      <td>0.2</td>\n",
              "      <td>0</td>\n",
              "    </tr>\n",
              "    <tr>\n",
              "      <th>1</th>\n",
              "      <td>4.9</td>\n",
              "      <td>3.0</td>\n",
              "      <td>1.4</td>\n",
              "      <td>0.2</td>\n",
              "      <td>0</td>\n",
              "    </tr>\n",
              "    <tr>\n",
              "      <th>2</th>\n",
              "      <td>4.7</td>\n",
              "      <td>3.2</td>\n",
              "      <td>1.3</td>\n",
              "      <td>0.2</td>\n",
              "      <td>0</td>\n",
              "    </tr>\n",
              "    <tr>\n",
              "      <th>3</th>\n",
              "      <td>4.6</td>\n",
              "      <td>3.1</td>\n",
              "      <td>1.5</td>\n",
              "      <td>0.2</td>\n",
              "      <td>0</td>\n",
              "    </tr>\n",
              "    <tr>\n",
              "      <th>4</th>\n",
              "      <td>5.0</td>\n",
              "      <td>3.6</td>\n",
              "      <td>1.4</td>\n",
              "      <td>0.2</td>\n",
              "      <td>0</td>\n",
              "    </tr>\n",
              "    <tr>\n",
              "      <th>...</th>\n",
              "      <td>...</td>\n",
              "      <td>...</td>\n",
              "      <td>...</td>\n",
              "      <td>...</td>\n",
              "      <td>...</td>\n",
              "    </tr>\n",
              "    <tr>\n",
              "      <th>145</th>\n",
              "      <td>6.7</td>\n",
              "      <td>3.0</td>\n",
              "      <td>5.2</td>\n",
              "      <td>2.3</td>\n",
              "      <td>2</td>\n",
              "    </tr>\n",
              "    <tr>\n",
              "      <th>146</th>\n",
              "      <td>6.3</td>\n",
              "      <td>2.5</td>\n",
              "      <td>5.0</td>\n",
              "      <td>1.9</td>\n",
              "      <td>2</td>\n",
              "    </tr>\n",
              "    <tr>\n",
              "      <th>147</th>\n",
              "      <td>6.5</td>\n",
              "      <td>3.0</td>\n",
              "      <td>5.2</td>\n",
              "      <td>2.0</td>\n",
              "      <td>2</td>\n",
              "    </tr>\n",
              "    <tr>\n",
              "      <th>148</th>\n",
              "      <td>6.2</td>\n",
              "      <td>3.4</td>\n",
              "      <td>5.4</td>\n",
              "      <td>2.3</td>\n",
              "      <td>2</td>\n",
              "    </tr>\n",
              "    <tr>\n",
              "      <th>149</th>\n",
              "      <td>5.9</td>\n",
              "      <td>3.0</td>\n",
              "      <td>5.1</td>\n",
              "      <td>1.8</td>\n",
              "      <td>2</td>\n",
              "    </tr>\n",
              "  </tbody>\n",
              "</table>\n",
              "<p>150 rows × 5 columns</p>\n",
              "</div>"
            ],
            "text/plain": [
              "     sepal length (cm)  sepal width (cm)  ...  petal width (cm)  ans\n",
              "0                  5.1               3.5  ...               0.2    0\n",
              "1                  4.9               3.0  ...               0.2    0\n",
              "2                  4.7               3.2  ...               0.2    0\n",
              "3                  4.6               3.1  ...               0.2    0\n",
              "4                  5.0               3.6  ...               0.2    0\n",
              "..                 ...               ...  ...               ...  ...\n",
              "145                6.7               3.0  ...               2.3    2\n",
              "146                6.3               2.5  ...               1.9    2\n",
              "147                6.5               3.0  ...               2.0    2\n",
              "148                6.2               3.4  ...               2.3    2\n",
              "149                5.9               3.0  ...               1.8    2\n",
              "\n",
              "[150 rows x 5 columns]"
            ]
          },
          "metadata": {
            "tags": []
          },
          "execution_count": 129
        }
      ]
    },
    {
      "cell_type": "code",
      "metadata": {
        "colab": {
          "base_uri": "https://localhost:8080/"
        },
        "id": "8zYlECGPhTXu",
        "outputId": "d8dba5d8-c2f9-4396-d121-b7fdcac5e802"
      },
      "source": [
        "from sklearn.model_selection import train_test_split\n",
        "X_train, X_test, y_train, y_test = train_test_split(iris.data[:,[2,3]], iris.target, test_size = 0.3, random_state = 1, stratify = iris.target)\n",
        "X_train, X_test, y_train, y_test "
      ],
      "execution_count": 111,
      "outputs": [
        {
          "output_type": "execute_result",
          "data": {
            "text/plain": [
              "(array([[1.4, 0.2],\n",
              "        [1.7, 0.2],\n",
              "        [5.3, 2.3],\n",
              "        [5.7, 2.1],\n",
              "        [1.2, 0.2],\n",
              "        [5.6, 2.4],\n",
              "        [6.6, 2.1],\n",
              "        [1.2, 0.2],\n",
              "        [5.8, 1.6],\n",
              "        [4.6, 1.3],\n",
              "        [3.3, 1. ],\n",
              "        [3.9, 1.4],\n",
              "        [1.3, 0.2],\n",
              "        [4.7, 1.2],\n",
              "        [4. , 1.3],\n",
              "        [5.1, 1.9],\n",
              "        [1.9, 0.2],\n",
              "        [3.5, 1. ],\n",
              "        [3.9, 1.2],\n",
              "        [1.6, 0.2],\n",
              "        [4.8, 1.8],\n",
              "        [6.9, 2.3],\n",
              "        [4.5, 1.5],\n",
              "        [4.5, 1.3],\n",
              "        [3.8, 1.1],\n",
              "        [5.6, 2.4],\n",
              "        [4.7, 1.4],\n",
              "        [5.6, 1.4],\n",
              "        [5.8, 2.2],\n",
              "        [5.1, 2.4],\n",
              "        [4.1, 1.3],\n",
              "        [1.5, 0.4],\n",
              "        [6.7, 2.2],\n",
              "        [5. , 1.9],\n",
              "        [4.8, 1.8],\n",
              "        [5.6, 2.1],\n",
              "        [4.2, 1.5],\n",
              "        [6.7, 2. ],\n",
              "        [5.5, 1.8],\n",
              "        [1.6, 0.2],\n",
              "        [4.9, 1.8],\n",
              "        [1.4, 0.2],\n",
              "        [5.1, 1.5],\n",
              "        [1.9, 0.4],\n",
              "        [1. , 0.2],\n",
              "        [4.9, 1.5],\n",
              "        [1.5, 0.2],\n",
              "        [1.1, 0.1],\n",
              "        [5.5, 1.8],\n",
              "        [4.7, 1.5],\n",
              "        [1.7, 0.3],\n",
              "        [3.5, 1. ],\n",
              "        [4.1, 1. ],\n",
              "        [1.5, 0.2],\n",
              "        [1.5, 0.2],\n",
              "        [1.5, 0.2],\n",
              "        [3.7, 1. ],\n",
              "        [6.1, 2.5],\n",
              "        [1.3, 0.3],\n",
              "        [4.9, 1.5],\n",
              "        [1.3, 0.2],\n",
              "        [4.5, 1.6],\n",
              "        [6. , 1.8],\n",
              "        [1.6, 0.2],\n",
              "        [1.4, 0.2],\n",
              "        [4.4, 1.2],\n",
              "        [5.1, 1.9],\n",
              "        [3.6, 1.3],\n",
              "        [4.1, 1.3],\n",
              "        [4.8, 1.8],\n",
              "        [6.1, 2.3],\n",
              "        [4.5, 1.5],\n",
              "        [4.5, 1.5],\n",
              "        [5.4, 2.1],\n",
              "        [5.6, 2.2],\n",
              "        [4.6, 1.4],\n",
              "        [1.5, 0.4],\n",
              "        [1.7, 0.5],\n",
              "        [6.1, 1.9],\n",
              "        [5.1, 1.6],\n",
              "        [6.4, 2. ],\n",
              "        [5. , 1.5],\n",
              "        [1.5, 0.2],\n",
              "        [4.2, 1.3],\n",
              "        [5.1, 2. ],\n",
              "        [6. , 2.5],\n",
              "        [1.5, 0.3],\n",
              "        [1.4, 0.2],\n",
              "        [5.6, 1.8],\n",
              "        [1.4, 0.3],\n",
              "        [5.9, 2.3],\n",
              "        [3.9, 1.1],\n",
              "        [4.2, 1.2],\n",
              "        [4.3, 1.3],\n",
              "        [1.5, 0.1],\n",
              "        [5.2, 2.3],\n",
              "        [4.4, 1.3],\n",
              "        [1.3, 0.2],\n",
              "        [1.4, 0.3],\n",
              "        [5. , 1.7],\n",
              "        [1.3, 0.3],\n",
              "        [4. , 1.2],\n",
              "        [1.6, 0.4],\n",
              "        [1.5, 0.2],\n",
              "        [1.3, 0.2]]), array([[5.4, 2.3],\n",
              "        [1.7, 0.4],\n",
              "        [1.4, 0.3],\n",
              "        [4.5, 1.7],\n",
              "        [4.4, 1.4],\n",
              "        [4. , 1.3],\n",
              "        [5.8, 1.8],\n",
              "        [4.5, 1.5],\n",
              "        [5.3, 1.9],\n",
              "        [1.3, 0.4],\n",
              "        [1.5, 0.4],\n",
              "        [4.9, 1.8],\n",
              "        [1.4, 0.2],\n",
              "        [3.3, 1. ],\n",
              "        [1.4, 0.2],\n",
              "        [4.8, 1.4],\n",
              "        [5.1, 2.3],\n",
              "        [4.5, 1.5],\n",
              "        [4.3, 1.3],\n",
              "        [5.2, 2. ],\n",
              "        [5.9, 2.1],\n",
              "        [1.4, 0.1],\n",
              "        [4.4, 1.4],\n",
              "        [4.9, 2. ],\n",
              "        [4.2, 1.3],\n",
              "        [4.7, 1.6],\n",
              "        [3. , 1.1],\n",
              "        [5.7, 2.5],\n",
              "        [1.6, 0.6],\n",
              "        [5. , 2. ],\n",
              "        [1.6, 0.2],\n",
              "        [1.4, 0.2],\n",
              "        [4. , 1. ],\n",
              "        [4. , 1.3],\n",
              "        [6.3, 1.8],\n",
              "        [5.5, 2.1],\n",
              "        [1.4, 0.1],\n",
              "        [1.6, 0.2],\n",
              "        [1.4, 0.2],\n",
              "        [4.7, 1.4],\n",
              "        [5.7, 2.3],\n",
              "        [5.1, 1.8],\n",
              "        [4.6, 1.5],\n",
              "        [1.5, 0.2],\n",
              "        [1.5, 0.1]]), array([0, 0, 2, 2, 0, 2, 2, 0, 2, 1, 1, 1, 0, 1, 1, 2, 0, 1, 1, 0, 2, 2,\n",
              "        1, 1, 1, 2, 1, 2, 2, 2, 1, 0, 2, 2, 2, 2, 1, 2, 2, 0, 2, 0, 2, 0,\n",
              "        0, 1, 0, 0, 2, 1, 0, 1, 1, 0, 0, 0, 1, 2, 0, 1, 0, 1, 2, 0, 0, 1,\n",
              "        2, 1, 1, 1, 2, 1, 1, 2, 2, 1, 0, 0, 2, 1, 2, 2, 0, 1, 2, 2, 0, 0,\n",
              "        2, 0, 2, 1, 1, 1, 0, 2, 1, 0, 0, 1, 0, 1, 0, 0, 0]), array([2, 0, 0, 2, 1, 1, 2, 1, 2, 0, 0, 2, 0, 1, 0, 1, 2, 1, 1, 2, 2, 0,\n",
              "        1, 2, 1, 1, 1, 2, 0, 2, 0, 0, 1, 1, 2, 2, 0, 0, 0, 1, 2, 2, 1, 0,\n",
              "        0]))"
            ]
          },
          "metadata": {
            "tags": []
          },
          "execution_count": 111
        }
      ]
    },
    {
      "cell_type": "code",
      "metadata": {
        "id": "JhmgvXOEhVUI"
      },
      "source": [
        "# 特徵縮放\n",
        "from sklearn.preprocessing import StandardScaler\n",
        "sc = StandardScaler()\n",
        "sc.fit(X_train)\n",
        "X_train_std = sc.transform(X_train)\n",
        "X_test_std = sc.transform(X_test)\n"
      ],
      "execution_count": 112,
      "outputs": []
    },
    {
      "cell_type": "code",
      "metadata": {
        "colab": {
          "base_uri": "https://localhost:8080/"
        },
        "id": "yez1QLOik5yU",
        "outputId": "3977dbd9-6427-4711-a987-ec74c8a68adf"
      },
      "source": [
        "from sklearn.linear_model import Perceptron\n",
        "# eta = 學習速率, random_state: 每輪processing後 reproducibility\n",
        "perc = Perceptron(eta0 = 0.1, random_state=1)\n",
        "perc.fit(X_train_std,y_train)\n",
        "\n",
        "pred = perc.predict(X_test_std)\n",
        "misclassified = (pred !=y_test).sum()\n",
        "# check the quantity of wrong classification \n",
        "print(misclassified)"
      ],
      "execution_count": 113,
      "outputs": [
        {
          "output_type": "stream",
          "text": [
            "1\n"
          ],
          "name": "stdout"
        }
      ]
    },
    {
      "cell_type": "code",
      "metadata": {
        "colab": {
          "base_uri": "https://localhost:8080/"
        },
        "id": "is8swCLbnTsR",
        "outputId": "47cbce26-74df-4946-89fd-72b9f2c1d974"
      },
      "source": [
        "from sklearn.metrics import accuracy_score\n",
        "acc = accuracy_score(pred, y_test)\n",
        "acc"
      ],
      "execution_count": 114,
      "outputs": [
        {
          "output_type": "execute_result",
          "data": {
            "text/plain": [
              "0.9777777777777777"
            ]
          },
          "metadata": {
            "tags": []
          },
          "execution_count": 114
        }
      ]
    },
    {
      "cell_type": "code",
      "metadata": {
        "id": "bX8IxOlBrgeL"
      },
      "source": [
        "from matplotlib.colors import ListedColormap\n",
        "def plot_decision_regions(X, y, classifier, test_idx=None, resolution=0.02):\n",
        "\n",
        "    # setup marker generator and color map\n",
        "    markers = ('s', 'x', 'o', '^', 'v')\n",
        "    colors = ('red', 'blue', 'lightgreen', 'gray', 'cyan')\n",
        "    cmap = ListedColormap(colors[:len(np.unique(y))])\n",
        "\n",
        "    # plot the decision surface\n",
        "    x1_min, x1_max = X[:, 0].min() - 1, X[:, 0].max() + 1\n",
        "    x2_min, x2_max = X[:, 1].min() - 1, X[:, 1].max() + 1\n",
        "    xx1, xx2 = np.meshgrid(np.arange(x1_min, x1_max, resolution),\n",
        "                           np.arange(x2_min, x2_max, resolution))\n",
        "    Z = classifier.predict(np.array([xx1.ravel(), xx2.ravel()]).T)\n",
        "    Z = Z.reshape(xx1.shape)\n",
        "    plt.contourf(xx1, xx2, Z, alpha=0.3, cmap=cmap)\n",
        "    plt.xlim(xx1.min(), xx1.max())\n",
        "    plt.ylim(xx2.min(), xx2.max())\n",
        "\n",
        "    for idx, cl in enumerate(np.unique(y)):\n",
        "        plt.scatter(x=X[y == cl, 0], \n",
        "                    y=X[y == cl, 1],\n",
        "                    alpha=0.8, \n",
        "                    c=cmap(idx),\n",
        "                    edgecolor='black',\n",
        "                    marker=markers[idx], \n",
        "                    label=cl)\n",
        "\n",
        "    # highlight test samples\n",
        "    if test_idx:\n",
        "        X_test, y_test = iris.data[:,[2,3]][test_idx, :], y[test_idx]\n",
        "        plt.scatter(X_test[:, 0],\n",
        "                    X_test[:, 1],\n",
        "                    c='',\n",
        "                    alpha=1.0,\n",
        "                    edgecolor='black',\n",
        "                    linewidths=1,\n",
        "                    marker='o',\n",
        "                    s=100, label='test set')"
      ],
      "execution_count": 130,
      "outputs": []
    },
    {
      "cell_type": "code",
      "metadata": {
        "colab": {
          "base_uri": "https://localhost:8080/",
          "height": 423
        },
        "id": "MLCfaIw-nWxK",
        "outputId": "7b2775f7-42b2-4802-cf59-414e9f0d2f5c"
      },
      "source": [
        "# Perceptron\n",
        "import matplotlib.pyplot as plt\n",
        "\n",
        "\n",
        "X_combined_std = np.vstack((X_train_std, X_test_std))\n",
        "y_combined = np.hstack((y_train, y_test))\n",
        "print(X_combined_std.shape[1])\n",
        "print()\n",
        "plot_decision_regions(X = X_combined_std, \n",
        "                      y = y_combined, \n",
        "                      classifier = perc,\n",
        "                      test_idx = range(105,150))\n",
        "plt.xlabel('petal length (std)')\n",
        "plt.ylabel('petal width (std)')\n",
        "plt.legend(loc = 'upper left')\n",
        "plt.figure(figsize=(14,14))\n",
        "plt.show()"
      ],
      "execution_count": 131,
      "outputs": [
        {
          "output_type": "stream",
          "text": [
            "*c* argument looks like a single numeric RGB or RGBA sequence, which should be avoided as value-mapping will have precedence in case its length matches with *x* & *y*.  Please use the *color* keyword-argument or provide a 2-D array with a single row if you intend to specify the same RGB or RGBA value for all points.\n",
            "*c* argument looks like a single numeric RGB or RGBA sequence, which should be avoided as value-mapping will have precedence in case its length matches with *x* & *y*.  Please use the *color* keyword-argument or provide a 2-D array with a single row if you intend to specify the same RGB or RGBA value for all points.\n",
            "*c* argument looks like a single numeric RGB or RGBA sequence, which should be avoided as value-mapping will have precedence in case its length matches with *x* & *y*.  Please use the *color* keyword-argument or provide a 2-D array with a single row if you intend to specify the same RGB or RGBA value for all points.\n"
          ],
          "name": "stderr"
        },
        {
          "output_type": "stream",
          "text": [
            "2\n",
            "\n"
          ],
          "name": "stdout"
        },
        {
          "output_type": "stream",
          "text": [
            "/usr/local/lib/python3.7/dist-packages/ipykernel_launcher.py:39: MatplotlibDeprecationWarning: Using a string of single character colors as a color sequence is deprecated. Use an explicit list instead.\n"
          ],
          "name": "stderr"
        },
        {
          "output_type": "display_data",
          "data": {
            "image/png": "[encoded data removed]",
            "text/plain": [
              "<Figure size 432x288 with 1 Axes>"
            ]
          },
          "metadata": {
            "tags": [],
            "needs_background": "light"
          }
        },
        {
          "output_type": "display_data",
          "data": {
            "text/plain": [
              "<Figure size 1008x1008 with 0 Axes>"
            ]
          },
          "metadata": {
            "tags": []
          }
        }
      ]
    },
    {
      "cell_type": "code",
      "metadata": {
        "colab": {
          "base_uri": "https://localhost:8080/",
          "height": 387
        },
        "id": "2tGhZzlO_bjv",
        "outputId": "529d145f-513d-4334-c155-1b07db4dc967"
      },
      "source": [
        "# LogisticRegression\n",
        "# solver parameter: 求解參數器lbfgs: Limited memory Broyden Fletcher Goldfarb shanno(有限記憶體, 同時可處理多項式損失) Hint: C is for overfitting and regulation\n",
        "from sklearn.linear_model import LogisticRegression\n",
        "\n",
        "logistics = LogisticRegression(C=100.0, random_state =1, solver = 'lbfgs', multi_class = 'ovr')\n",
        "logistics.fit(X_train_std, y_train)\n",
        "plot_decision_regions(X = X_combined_std, \n",
        "                      y = y_combined, \n",
        "                      classifier = logistics,\n",
        "                      test_idx = range(105,150))\n",
        "plt.xlabel('petal length (std)')\n",
        "plt.ylabel('petal width (std)')\n",
        "plt.legend(loc = 'upper left')\n",
        "plt.figure(figsize=(14,14))\n",
        "plt.show()"
      ],
      "execution_count": 136,
      "outputs": [
        {
          "output_type": "stream",
          "text": [
            "*c* argument looks like a single numeric RGB or RGBA sequence, which should be avoided as value-mapping will have precedence in case its length matches with *x* & *y*.  Please use the *color* keyword-argument or provide a 2-D array with a single row if you intend to specify the same RGB or RGBA value for all points.\n",
            "*c* argument looks like a single numeric RGB or RGBA sequence, which should be avoided as value-mapping will have precedence in case its length matches with *x* & *y*.  Please use the *color* keyword-argument or provide a 2-D array with a single row if you intend to specify the same RGB or RGBA value for all points.\n",
            "*c* argument looks like a single numeric RGB or RGBA sequence, which should be avoided as value-mapping will have precedence in case its length matches with *x* & *y*.  Please use the *color* keyword-argument or provide a 2-D array with a single row if you intend to specify the same RGB or RGBA value for all points.\n",
            "/usr/local/lib/python3.7/dist-packages/ipykernel_launcher.py:39: MatplotlibDeprecationWarning: Using a string of single character colors as a color sequence is deprecated. Use an explicit list instead.\n"
          ],
          "name": "stderr"
        },
        {
          "output_type": "display_data",
          "data": {
            "image/png": "[encoded data removed]",
            "text/plain": [
              "<Figure size 432x288 with 1 Axes>"
            ]
          },
          "metadata": {
            "tags": [],
            "needs_background": "light"
          }
        },
        {
          "output_type": "display_data",
          "data": {
            "text/plain": [
              "<Figure size 1008x1008 with 0 Axes>"
            ]
          },
          "metadata": {
            "tags": []
          }
        }
      ]
    },
    {
      "cell_type": "code",
      "metadata": {
        "colab": {
          "base_uri": "https://localhost:8080/",
          "height": 283
        },
        "id": "KZqUopRfBH6Y",
        "outputId": "b7b92b0a-caeb-469d-caa6-8c31b70c6954"
      },
      "source": [
        "# 反正規化參數C 與lenda 正規化參數的導數-> 若降低Ｃ則表示增加正規化的強度\n",
        "weights, params = [], []\n",
        "for c in np.arange(-5,5):\n",
        "  logistics = LogisticRegression(C=10.**c, random_state =1, solver = 'lbfgs', multi_class = 'ovr')\n",
        "  logistics.fit(X_train_std, y_train)\n",
        "  weights.append(logistics.coef_[1])\n",
        "  params.append(10.**c)\n",
        "weights = np.array(weights)\n",
        "plt.plot(params, weights[:,0],\n",
        "         label= 'petal length')\n",
        "plt.plot(params, weights[:, 1],\n",
        "         linestyle = '--',\n",
        "         label = 'petal width')\n",
        "plt.ylabel('weight coefficient')\n",
        "plt.xlabel('C')\n",
        "plt.legend(loc= 'upper left')\n",
        "plt.xscale('log')\n",
        "plt.show()"
      ],
      "execution_count": 139,
      "outputs": [
        {
          "output_type": "display_data",
          "data": {
            "image/png": "[encoded data removed]",
            "text/plain": [
              "<Figure size 432x288 with 1 Axes>"
            ]
          },
          "metadata": {
            "tags": [],
            "needs_background": "light"
          }
        }
      ]
    },
    {
      "cell_type": "code",
      "metadata": {
        "id": "6PP3omccuaiE"
      },
      "source": [
        "\n"
      ],
      "execution_count": null,
      "outputs": []
    }
  ]
}